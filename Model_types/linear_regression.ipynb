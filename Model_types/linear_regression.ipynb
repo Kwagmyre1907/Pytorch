{
 "cells": [
  {
   "cell_type": "code",
   "execution_count": 2,
   "metadata": {},
   "outputs": [],
   "source": [
    "'''\n",
    "Linear Regretion\n",
    "0) Prepare data\n",
    "1) Design Model (input, output, forward pass)\n",
    "2) Construct loss and optimizer\n",
    "3) Training loop\n",
    "    - Forward pass: compute prediction\n",
    "    - Backward pass: gradients\n",
    "    - Update weights and empty gradients\n",
    "'''\n",
    "import torch\n",
    "import torch.nn as nn\n",
    "import numpy as np\n",
    "from sklearn import datasets\n",
    "import matplotlib.pyplot as plt\n",
    "import plotly.express as px"
   ]
  },
  {
   "cell_type": "code",
   "execution_count": 3,
   "metadata": {},
   "outputs": [
    {
     "name": "stdout",
     "output_type": "stream",
     "text": [
      "n_samples: 100; n_features: 1\n"
     ]
    }
   ],
   "source": [
    "# Prep data\n",
    "X_numpy, y_numpy = datasets.make_regression(n_samples=100, n_features=1, noise=20, random_state=1)\n",
    "\n",
    "X = torch.from_numpy(X_numpy.astype(np.float32))\n",
    "y = torch.from_numpy(y_numpy.astype(np.float32))\n",
    "\n",
    "# turn y into comlun vector\n",
    "y = y.view(y.shape[0],1) # [num_items, 1]\n",
    "\n",
    "n_samples, n_features = X.shape\n",
    "print(f'n_samples: {n_samples}; n_features: {n_features}')"
   ]
  },
  {
   "cell_type": "code",
   "execution_count": 4,
   "metadata": {},
   "outputs": [],
   "source": [
    "# Design Model\n",
    "input_size = n_features\n",
    "output_size = 1\n",
    "model = nn.Linear(input_size, output_size)"
   ]
  },
  {
   "cell_type": "code",
   "execution_count": 5,
   "metadata": {},
   "outputs": [],
   "source": [
    "# Construct loss & Optimizer\n",
    "learning_rate = 0.01\n",
    "criterion = nn.MSELoss() # Mean Square \n",
    "optimizer = torch.optim.SGD(model.parameters(), lr=learning_rate)"
   ]
  },
  {
   "cell_type": "code",
   "execution_count": 6,
   "metadata": {},
   "outputs": [
    {
     "name": "stdout",
     "output_type": "stream",
     "text": [
      "epoch: 10, loss = 4344.4419\n",
      "epoch: 20, loss = 3243.0918\n",
      "epoch: 30, loss = 2445.9199\n",
      "epoch: 40, loss = 1868.3154\n",
      "epoch: 50, loss = 1449.3994\n",
      "epoch: 60, loss = 1145.3032\n",
      "epoch: 70, loss = 924.3750\n",
      "epoch: 80, loss = 763.7479\n",
      "epoch: 90, loss = 646.8817\n",
      "epoch: 100, loss = 561.7996\n"
     ]
    }
   ],
   "source": [
    "# Training Loop\n",
    "n = 100\n",
    "for epoch in range(n):\n",
    "    # forward pass and loss\n",
    "    y_predicted = model(X)\n",
    "    loss = criterion(y_predicted, y)\n",
    "    # backward pass\n",
    "    loss.backward()\n",
    "    # update wieghts\n",
    "    optimizer.step()\n",
    "    optimizer.zero_grad()\n",
    "\n",
    "    if (epoch+1) % 10 == 0:\n",
    "        print(f'epoch: {epoch+1}, loss = {loss.item():.4f}')"
   ]
  },
  {
   "cell_type": "code",
   "execution_count": 8,
   "metadata": {},
   "outputs": [
    {
     "data": {
      "image/png": "[encoded data removed]",
      "text/plain": [
       "<Figure size 432x288 with 1 Axes>"
      ]
     },
     "metadata": {
      "needs_background": "light"
     },
     "output_type": "display_data"
    }
   ],
   "source": [
    "# Plot\n",
    "predicted = model(X).detach().numpy()\n",
    "plt.plot(X_numpy, y_numpy, 'rx')\n",
    "plt.plot(X_numpy, predicted, 'b')\n",
    "plt.show()"
   ]
  }
 ],
 "metadata": {
  "interpreter": {
   "hash": "5b514f3e67046ea9f14403c70e3e033bfc4a81f2516a446e4e9ae64108c8a359"
  },
  "kernelspec": {
   "display_name": "Python 3.9.7 64-bit ('pytorch': conda)",
   "language": "python",
   "name": "python3"
  },
  "language_info": {
   "codemirror_mode": {
    "name": "ipython",
    "version": 3
   },
   "file_extension": ".py",
   "mimetype": "text/x-python",
   "name": "python",
   "nbconvert_exporter": "python",
   "pygments_lexer": "ipython3",
   "version": "3.9.7"
  },
  "orig_nbformat": 4
 },
 "nbformat": 4,
 "nbformat_minor": 2
}
